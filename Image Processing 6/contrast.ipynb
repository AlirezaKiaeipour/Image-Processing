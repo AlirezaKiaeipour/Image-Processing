{
 "cells": [
  {
   "cell_type": "code",
   "execution_count": 1,
   "id": "1b2ec849-8af0-4e6b-bc20-f34c3be2508a",
   "metadata": {},
   "outputs": [],
   "source": [
    "import cv2\n",
    "import numpy as np"
   ]
  },
  {
   "cell_type": "code",
   "execution_count": 2,
   "id": "d07abacc-3489-4cc0-957a-ebc8b14e2024",
   "metadata": {},
   "outputs": [
    {
     "data": {
      "text/plain": [
       "-1"
      ]
     },
     "execution_count": 2,
     "metadata": {},
     "output_type": "execute_result"
    }
   ],
   "source": [
    "## Low to High\n",
    "## contrast part1\n",
    "img = cv2.imread(\"img/low-contrast.jpg\",0)\n",
    "img_equalize = cv2.equalizeHist(img)\n",
    "resualt = np.hstack((img,img_equalize))\n",
    "cv2.imshow(\"Low contrast to High contrast\",resualt)\n",
    "cv2.waitKey()"
   ]
  },
  {
   "cell_type": "code",
   "execution_count": 3,
   "id": "1809f479-8b7a-4162-8240-345dab745290",
   "metadata": {},
   "outputs": [
    {
     "data": {
      "text/plain": [
       "-1"
      ]
     },
     "execution_count": 3,
     "metadata": {},
     "output_type": "execute_result"
    }
   ],
   "source": [
    "## Low to High\n",
    "## contrast part2\n",
    "img = cv2.imread(\"img/low-contrast.jpg\",0)\n",
    "mask = np.zeros(img.shape,np.uint8)\n",
    "row ,col = img.shape\n",
    "min = np.min(img)\n",
    "max = np.max(img)\n",
    "\n",
    "for i in range(row):\n",
    "    for j in range(col):\n",
    "        mask[i,j] = ((img[i,j]-min)/(max-min))*255\n",
    "resualt = np.hstack((img,mask))       \n",
    "cv2.imshow(\"Low contrast to High contrast\",resualt)\n",
    "cv2.waitKey()"
   ]
  },
  {
   "cell_type": "code",
   "execution_count": 5,
   "id": "9c204cb9-c6ea-4e1f-aebb-f62fcdf500e0",
   "metadata": {},
   "outputs": [
    {
     "data": {
      "text/plain": [
       "-1"
      ]
     },
     "execution_count": 5,
     "metadata": {},
     "output_type": "execute_result"
    }
   ],
   "source": [
    "## Low to High\n",
    "## contrast part3\n",
    "img = cv2.imread(\"img/low-contrast.jpg\",0)\n",
    "mask = np.zeros(img.shape,np.uint8)\n",
    "min = np.min(img)\n",
    "max = np.max(img)\n",
    "\n",
    "mask = ((img-min)/(max-min))\n",
    "cv2.imshow(\"Low contrast to High contrast\",mask)\n",
    "cv2.waitKey()"
   ]
  },
  {
   "cell_type": "code",
   "execution_count": 7,
   "id": "53e5d6eb-a2fc-4358-8a80-f0d600acd97c",
   "metadata": {},
   "outputs": [
    {
     "data": {
      "text/plain": [
       "-1"
      ]
     },
     "execution_count": 7,
     "metadata": {},
     "output_type": "execute_result"
    }
   ],
   "source": [
    "## High to Low\n",
    "## contrast part1\n",
    "img = cv2.imread(\"img/high-contrast.jpg\",0)\n",
    "mask = np.zeros(img.shape,np.uint8)\n",
    "alpha=0.7\n",
    "beta=70\n",
    "contrast_low=cv2.addWeighted(img,alpha,mask,0,beta)\n",
    "\n",
    "resualt = np.hstack((img,contrast_low))\n",
    "cv2.imshow(\"High contrast to Low contrast\",resualt)\n",
    "cv2.waitKey()"
   ]
  },
  {
   "cell_type": "code",
   "execution_count": 8,
   "id": "b4f78af9-72d0-4726-9b23-2d60add1a0bc",
   "metadata": {},
   "outputs": [
    {
     "data": {
      "text/plain": [
       "-1"
      ]
     },
     "execution_count": 8,
     "metadata": {},
     "output_type": "execute_result"
    }
   ],
   "source": [
    "## High to Low\n",
    "## contrast part2\n",
    "img = cv2.imread('img/high-contrast.jpg',0)\n",
    "alpha = 0.7\n",
    "beta = 70\n",
    "\n",
    "img_contrast = cv2.convertScaleAbs(img, alpha=alpha, beta=beta)\n",
    "resualt = np.hstack((img,img_contrast))\n",
    "cv2.imshow(\"High contrast to Low contrast\", resualt)\n",
    "cv2.waitKey()"
   ]
  }
 ],
 "metadata": {
  "kernelspec": {
   "display_name": "Python 3 (ipykernel)",
   "language": "python",
   "name": "python3"
  },
  "language_info": {
   "codemirror_mode": {
    "name": "ipython",
    "version": 3
   },
   "file_extension": ".py",
   "mimetype": "text/x-python",
   "name": "python",
   "nbconvert_exporter": "python",
   "pygments_lexer": "ipython3",
   "version": "3.9.6"
  }
 },
 "nbformat": 4,
 "nbformat_minor": 5
}
