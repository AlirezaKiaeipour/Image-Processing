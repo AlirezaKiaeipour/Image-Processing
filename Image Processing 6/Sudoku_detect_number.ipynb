{
 "cells": [
  {
   "cell_type": "code",
   "execution_count": 27,
   "id": "6b4694c8-22bc-4793-9a24-d2ade18f9db7",
   "metadata": {},
   "outputs": [],
   "source": [
    "import cv2\n",
    "import numpy as np\n",
    "\n",
    "image= cv2.imread('img/sudoku.tif',0)\n",
    "image = cv2.equalizeHist(image)\n",
    "image = cv2.resize(image,(0,0),fx=0.5,fy=0.5)\n",
    "gray= np.float32(image)\n",
    "corner= cv2.cornerHarris(gray,2,3,0.04)\n",
    "corner= cv2.dilate(corner,None)\n",
    "mask = np.zeros(image.shape,np.uint8)\n",
    "\n",
    "mask[corner > 0.01 * corner.max()]= 100\n",
    "row,col = image.shape\n",
    "corner_array = []\n",
    "for i in range(row):\n",
    "    for j in range(col):\n",
    "        if mask[i,j]==100:\n",
    "            corner_array.append([i,j])\n",
    "\n",
    "x,y = min(corner_array)\n",
    "w,h = max(corner_array)\n",
    "img = image[x:w,y:h]\n",
    "srow , scol = img.shape\n",
    "a = srow // 9\n",
    "b = scol // 9\n",
    "\n",
    "for i in range(0,srow-a,a):\n",
    "    for j in range(0,scol-b,b):\n",
    "            resualt = img[i:i+a,j:j+b]\n",
    "            if np.mean(img[i+7:i+a,j+7:j+b]) <240:   \n",
    "                cv2.imwrite(f\"output/{i}{j}.jpg\",resualt)\n",
    "            "
   ]
  }
 ],
 "metadata": {
  "kernelspec": {
   "display_name": "Python 3 (ipykernel)",
   "language": "python",
   "name": "python3"
  },
  "language_info": {
   "codemirror_mode": {
    "name": "ipython",
    "version": 3
   },
   "file_extension": ".py",
   "mimetype": "text/x-python",
   "name": "python",
   "nbconvert_exporter": "python",
   "pygments_lexer": "ipython3",
   "version": "3.9.6"
  }
 },
 "nbformat": 4,
 "nbformat_minor": 5
}
