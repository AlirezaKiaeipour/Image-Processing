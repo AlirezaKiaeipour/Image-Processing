{
 "cells": [
  {
   "cell_type": "code",
   "execution_count": 1,
   "id": "3e6d7159-5e2b-483b-b7dd-930f9044284d",
   "metadata": {},
   "outputs": [],
   "source": [
    "import os\n",
    "import cv2\n",
    "import numpy as np"
   ]
  },
  {
   "cell_type": "code",
   "execution_count": 2,
   "id": "c3aeafb6-5c8c-422c-bfce-64132f436528",
   "metadata": {},
   "outputs": [],
   "source": [
    "img = cv2.imread(\"img/mnist.png\",0)\n",
    "os.mkdir(\"output\")\n",
    "row ,col = img.shape\n",
    "small_row = row //50\n",
    "small_col = col // 100\n",
    "counter = 0\n",
    "foldr = 0\n",
    "for i in range(0,row,small_row):\n",
    "    for j in range(0,col,small_col):\n",
    "        resualt = img[i:i+small_row,j:j+small_col]\n",
    "        if counter %500==0:\n",
    "            foldr+=1\n",
    "            os.mkdir(f\"output/{foldr}\")\n",
    "        cv2.imwrite(f\"output/{foldr}/{counter}.jpg\",resualt)\n",
    "        counter+=1\n"
   ]
  }
 ],
 "metadata": {
  "kernelspec": {
   "display_name": "Python 3 (ipykernel)",
   "language": "python",
   "name": "python3"
  },
  "language_info": {
   "codemirror_mode": {
    "name": "ipython",
    "version": 3
   },
   "file_extension": ".py",
   "mimetype": "text/x-python",
   "name": "python",
   "nbconvert_exporter": "python",
   "pygments_lexer": "ipython3",
   "version": "3.9.6"
  }
 },
 "nbformat": 4,
 "nbformat_minor": 5
}
